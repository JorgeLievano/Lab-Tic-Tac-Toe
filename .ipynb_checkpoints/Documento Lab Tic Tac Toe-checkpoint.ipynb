{
 "cells": [
  {
   "cell_type": "markdown",
   "metadata": {},
   "source": [
    "# Tic Tac Toe Lab Documentación\n",
    "\n",
    "## Integrantes\n",
    "### Luis Manuel Quintero T.\n",
    "### Jorge Eliecer Lievano S.\n",
    "\n",
    "\n",
    "El proposito del laboratorio es adapatar el codigo del juego proporcionado de tal forma que sea posible jugar en tres modalidades:\n",
    "Facil\n",
    "Medio\n",
    "Dificíl\n",
    "\n",
    "Para llevar a cabo la tarea, primero se identifico que la implementación proporcionada correspondia a un nivel dificil donde la maquina tiene la capacidad de jugar a la defensiva y ofensiva, luego se opto por modificar la función de evaluación y la toma de decisión para el nivel facil y medio de tal forma que la descripción para cada nivel es:\n",
    "\n",
    "## Facil: \n",
    "Se modifico la función de evaluación de tal forma que la maquina siempre escogera su posibilidad con menor valor, es decir, recurre a una función de minimización para sus propias jugadas.\n",
    "\n",
    "\n",
    "## Medio:\n",
    "Para el nivel medio se decidio alterar la decision de la maquina tal que durante sus primeros dos turnos se ramdoniza la función a utilizar y luego prosigue con la implementación proporcionada.\n",
    "De esta forma la maquina no pierde la cualidad de poder defender y atacar, pero durante los dos primeros turnos existe la posibilidad de que el contricante humano pueda sacar una ventaja estrategica y luego confrontarse a una maquina con la capacidad de atacar y defender\n",
    "\n",
    "## Dificíl:\n",
    "No se ralizó ninguna modificación\n",
    "Esta implementación implementa la tecnica Min-Max que permite minimizar los movimientos del contricante humano y maximiza aquellos que posibilitan la victoria de la maquina.\n",
    "Bajo esta modalidad el contricante humano solo tiene la posibilidad de perder o empatar.\n",
    "\n"
   ]
  }
 ],
 "metadata": {
  "kernelspec": {
   "display_name": "Python 3",
   "language": "python",
   "name": "python3"
  },
  "language_info": {
   "codemirror_mode": {
    "name": "ipython",
    "version": 3
   },
   "file_extension": ".py",
   "mimetype": "text/x-python",
   "name": "python",
   "nbconvert_exporter": "python",
   "pygments_lexer": "ipython3",
   "version": "3.7.3"
  }
 },
 "nbformat": 4,
 "nbformat_minor": 2
}
